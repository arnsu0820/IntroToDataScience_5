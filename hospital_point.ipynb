{
 "cells": [
  {
   "cell_type": "code",
   "execution_count": 1,
   "metadata": {},
   "outputs": [],
   "source": [
    "import pandas as pd"
   ]
  },
  {
   "cell_type": "code",
   "execution_count": null,
   "metadata": {},
   "outputs": [],
   "source": [
    "score_df = pd.read_csv(\"C:\\\\Users\\park\\\\Desktop\\\\hospital_score.csv\", encoding='euc-kr')"
   ]
  },
  {
   "cell_type": "markdown",
   "metadata": {},
   "source": [
    "#### Hospital score "
   ]
  },
  {
   "cell_type": "code",
   "execution_count": 5,
   "metadata": {},
   "outputs": [
    {
     "data": {
      "text/html": [
       "<div>\n",
       "<style scoped>\n",
       "    .dataframe tbody tr th:only-of-type {\n",
       "        vertical-align: middle;\n",
       "    }\n",
       "\n",
       "    .dataframe tbody tr th {\n",
       "        vertical-align: top;\n",
       "    }\n",
       "\n",
       "    .dataframe thead th {\n",
       "        text-align: right;\n",
       "    }\n",
       "</style>\n",
       "<table border=\"1\" class=\"dataframe\">\n",
       "  <thead>\n",
       "    <tr style=\"text-align: right;\">\n",
       "      <th></th>\n",
       "      <th>dutyName.x</th>\n",
       "      <th>hpid</th>\n",
       "      <th>score(mean=100, sd=20)</th>\n",
       "    </tr>\n",
       "  </thead>\n",
       "  <tbody>\n",
       "    <tr>\n",
       "      <td>0</td>\n",
       "      <td>의료법인강릉동인병원</td>\n",
       "      <td>A2200005</td>\n",
       "      <td>116.390005</td>\n",
       "    </tr>\n",
       "    <tr>\n",
       "      <td>1</td>\n",
       "      <td>강릉아산병원</td>\n",
       "      <td>A2200008</td>\n",
       "      <td>170.014357</td>\n",
       "    </tr>\n",
       "    <tr>\n",
       "      <td>2</td>\n",
       "      <td>강원도삼척의료원</td>\n",
       "      <td>A2200007</td>\n",
       "      <td>71.870779</td>\n",
       "    </tr>\n",
       "    <tr>\n",
       "      <td>3</td>\n",
       "      <td>강원도속초의료원</td>\n",
       "      <td>A2200012</td>\n",
       "      <td>49.591405</td>\n",
       "    </tr>\n",
       "    <tr>\n",
       "      <td>4</td>\n",
       "      <td>의료법인보광의료재단속초보광병원</td>\n",
       "      <td>A2200046</td>\n",
       "      <td>51.903921</td>\n",
       "    </tr>\n",
       "  </tbody>\n",
       "</table>\n",
       "</div>"
      ],
      "text/plain": [
       "         dutyName.x      hpid  score(mean=100, sd=20)\n",
       "0        의료법인강릉동인병원  A2200005              116.390005\n",
       "1            강릉아산병원  A2200008              170.014357\n",
       "2          강원도삼척의료원  A2200007               71.870779\n",
       "3          강원도속초의료원  A2200012               49.591405\n",
       "4  의료법인보광의료재단속초보광병원  A2200046               51.903921"
      ]
     },
     "execution_count": 5,
     "metadata": {},
     "output_type": "execute_result"
    }
   ],
   "source": [
    "score_df.head()"
   ]
  },
  {
   "cell_type": "code",
   "execution_count": 10,
   "metadata": {},
   "outputs": [
    {
     "name": "stdout",
     "output_type": "stream",
     "text": [
      "<class 'pandas.core.frame.DataFrame'>\n",
      "RangeIndex: 313 entries, 0 to 312\n",
      "Data columns (total 3 columns):\n",
      "dutyName.x                313 non-null object\n",
      "hpid                      313 non-null object\n",
      "score(mean=100, sd=20)    313 non-null float64\n",
      "dtypes: float64(1), object(2)\n",
      "memory usage: 7.5+ KB\n"
     ]
    }
   ],
   "source": [
    "score_df.info()"
   ]
  },
  {
   "cell_type": "code",
   "execution_count": 6,
   "metadata": {},
   "outputs": [],
   "source": [
    "hospital_df = pd.read_csv(\"C:\\\\Users\\\\park\\\\Desktop\\\\DS_Yonsei\\\\location.csv\", encoding='euc-kr')"
   ]
  },
  {
   "cell_type": "markdown",
   "metadata": {},
   "source": [
    "#### Hosiptal info"
   ]
  },
  {
   "cell_type": "code",
   "execution_count": 7,
   "metadata": {
    "scrolled": true
   },
   "outputs": [
    {
     "data": {
      "text/html": [
       "<div>\n",
       "<style scoped>\n",
       "    .dataframe tbody tr th:only-of-type {\n",
       "        vertical-align: middle;\n",
       "    }\n",
       "\n",
       "    .dataframe tbody tr th {\n",
       "        vertical-align: top;\n",
       "    }\n",
       "\n",
       "    .dataframe thead th {\n",
       "        text-align: right;\n",
       "    }\n",
       "</style>\n",
       "<table border=\"1\" class=\"dataframe\">\n",
       "  <thead>\n",
       "    <tr style=\"text-align: right;\">\n",
       "      <th></th>\n",
       "      <th>Unnamed: 0</th>\n",
       "      <th>hpid</th>\n",
       "      <th>hname</th>\n",
       "      <th>x_coord</th>\n",
       "      <th>y_coord</th>\n",
       "    </tr>\n",
       "  </thead>\n",
       "  <tbody>\n",
       "    <tr>\n",
       "      <td>0</td>\n",
       "      <td>0</td>\n",
       "      <td>A2200005</td>\n",
       "      <td>의료법인강릉동인병원</td>\n",
       "      <td>37.774326</td>\n",
       "      <td>128.907142</td>\n",
       "    </tr>\n",
       "    <tr>\n",
       "      <td>1</td>\n",
       "      <td>1</td>\n",
       "      <td>A2200011</td>\n",
       "      <td>강원도강릉의료원</td>\n",
       "      <td>37.749310</td>\n",
       "      <td>128.888796</td>\n",
       "    </tr>\n",
       "    <tr>\n",
       "      <td>2</td>\n",
       "      <td>2</td>\n",
       "      <td>A2200008</td>\n",
       "      <td>강릉아산병원</td>\n",
       "      <td>37.818427</td>\n",
       "      <td>128.857714</td>\n",
       "    </tr>\n",
       "    <tr>\n",
       "      <td>3</td>\n",
       "      <td>3</td>\n",
       "      <td>A2200038</td>\n",
       "      <td>근로복지공단동해병원</td>\n",
       "      <td>37.532323</td>\n",
       "      <td>129.105856</td>\n",
       "    </tr>\n",
       "    <tr>\n",
       "      <td>4</td>\n",
       "      <td>4</td>\n",
       "      <td>A2200003</td>\n",
       "      <td>의료법인동해동인병원</td>\n",
       "      <td>37.530007</td>\n",
       "      <td>129.107404</td>\n",
       "    </tr>\n",
       "  </tbody>\n",
       "</table>\n",
       "</div>"
      ],
      "text/plain": [
       "   Unnamed: 0      hpid       hname    x_coord     y_coord\n",
       "0           0  A2200005  의료법인강릉동인병원  37.774326  128.907142\n",
       "1           1  A2200011    강원도강릉의료원  37.749310  128.888796\n",
       "2           2  A2200008      강릉아산병원  37.818427  128.857714\n",
       "3           3  A2200038  근로복지공단동해병원  37.532323  129.105856\n",
       "4           4  A2200003  의료법인동해동인병원  37.530007  129.107404"
      ]
     },
     "execution_count": 7,
     "metadata": {},
     "output_type": "execute_result"
    }
   ],
   "source": [
    "hospital_df.head()"
   ]
  },
  {
   "cell_type": "code",
   "execution_count": 11,
   "metadata": {},
   "outputs": [
    {
     "data": {
      "text/plain": [
       "<bound method DataFrame.info of      Unnamed: 0      hpid             hname    x_coord     y_coord\n",
       "0             0  A2200005        의료법인강릉동인병원  37.774326  128.907142\n",
       "1             1  A2200011          강원도강릉의료원  37.749310  128.888796\n",
       "2             2  A2200008            강릉아산병원  37.818427  128.857714\n",
       "3             3  A2200038        근로복지공단동해병원  37.532323  129.105856\n",
       "4             4  A2200003        의료법인동해동인병원  37.530007  129.107404\n",
       "..          ...       ...               ...        ...         ...\n",
       "397         397  A2300008            청주성모병원  36.673801  127.485470\n",
       "398         398  A2300002   의료법인한마음의료재단하나병원  36.623474  127.430819\n",
       "399         399  A2302011  재단법인베스티안재단베스티안병원  36.636428  127.321641\n",
       "400         400  A2300010      건국대학교의료원충주병원  36.978975  127.928637\n",
       "401         401  A2300004         충청북도충주의료원  36.979567  127.970359\n",
       "\n",
       "[402 rows x 5 columns]>"
      ]
     },
     "execution_count": 11,
     "metadata": {},
     "output_type": "execute_result"
    }
   ],
   "source": [
    "hospital_df.info"
   ]
  },
  {
   "cell_type": "markdown",
   "metadata": {},
   "source": [
    "#### join data : outer join for empty cell handling"
   ]
  },
  {
   "cell_type": "code",
   "execution_count": 29,
   "metadata": {},
   "outputs": [],
   "source": [
    "h_df = hospital_df.merge(score_df,how='outer', left_on='hpid', right_on='hpid')"
   ]
  },
  {
   "cell_type": "code",
   "execution_count": 30,
   "metadata": {},
   "outputs": [
    {
     "name": "stdout",
     "output_type": "stream",
     "text": [
      "<class 'pandas.core.frame.DataFrame'>\n",
      "Int64Index: 402 entries, 0 to 401\n",
      "Data columns (total 7 columns):\n",
      "Unnamed: 0                402 non-null int64\n",
      "hpid                      402 non-null object\n",
      "hname                     402 non-null object\n",
      "x_coord                   402 non-null float64\n",
      "y_coord                   402 non-null float64\n",
      "dutyName.x                313 non-null object\n",
      "score(mean=100, sd=20)    313 non-null float64\n",
      "dtypes: float64(3), int64(1), object(3)\n",
      "memory usage: 25.1+ KB\n"
     ]
    }
   ],
   "source": [
    "h_df.info()"
   ]
  },
  {
   "cell_type": "code",
   "execution_count": 31,
   "metadata": {
    "scrolled": true
   },
   "outputs": [
    {
     "data": {
      "text/html": [
       "<div>\n",
       "<style scoped>\n",
       "    .dataframe tbody tr th:only-of-type {\n",
       "        vertical-align: middle;\n",
       "    }\n",
       "\n",
       "    .dataframe tbody tr th {\n",
       "        vertical-align: top;\n",
       "    }\n",
       "\n",
       "    .dataframe thead th {\n",
       "        text-align: right;\n",
       "    }\n",
       "</style>\n",
       "<table border=\"1\" class=\"dataframe\">\n",
       "  <thead>\n",
       "    <tr style=\"text-align: right;\">\n",
       "      <th></th>\n",
       "      <th>Unnamed: 0</th>\n",
       "      <th>hpid</th>\n",
       "      <th>hname</th>\n",
       "      <th>x_coord</th>\n",
       "      <th>y_coord</th>\n",
       "      <th>dutyName.x</th>\n",
       "      <th>score(mean=100, sd=20)</th>\n",
       "    </tr>\n",
       "  </thead>\n",
       "  <tbody>\n",
       "    <tr>\n",
       "      <td>0</td>\n",
       "      <td>0</td>\n",
       "      <td>A2200005</td>\n",
       "      <td>의료법인강릉동인병원</td>\n",
       "      <td>37.774326</td>\n",
       "      <td>128.907142</td>\n",
       "      <td>의료법인강릉동인병원</td>\n",
       "      <td>116.390005</td>\n",
       "    </tr>\n",
       "    <tr>\n",
       "      <td>1</td>\n",
       "      <td>1</td>\n",
       "      <td>A2200011</td>\n",
       "      <td>강원도강릉의료원</td>\n",
       "      <td>37.749310</td>\n",
       "      <td>128.888796</td>\n",
       "      <td>NaN</td>\n",
       "      <td>NaN</td>\n",
       "    </tr>\n",
       "    <tr>\n",
       "      <td>2</td>\n",
       "      <td>2</td>\n",
       "      <td>A2200008</td>\n",
       "      <td>강릉아산병원</td>\n",
       "      <td>37.818427</td>\n",
       "      <td>128.857714</td>\n",
       "      <td>강릉아산병원</td>\n",
       "      <td>170.014357</td>\n",
       "    </tr>\n",
       "    <tr>\n",
       "      <td>3</td>\n",
       "      <td>3</td>\n",
       "      <td>A2200038</td>\n",
       "      <td>근로복지공단동해병원</td>\n",
       "      <td>37.532323</td>\n",
       "      <td>129.105856</td>\n",
       "      <td>NaN</td>\n",
       "      <td>NaN</td>\n",
       "    </tr>\n",
       "    <tr>\n",
       "      <td>4</td>\n",
       "      <td>4</td>\n",
       "      <td>A2200003</td>\n",
       "      <td>의료법인동해동인병원</td>\n",
       "      <td>37.530007</td>\n",
       "      <td>129.107404</td>\n",
       "      <td>NaN</td>\n",
       "      <td>NaN</td>\n",
       "    </tr>\n",
       "  </tbody>\n",
       "</table>\n",
       "</div>"
      ],
      "text/plain": [
       "   Unnamed: 0      hpid       hname    x_coord     y_coord  dutyName.x  \\\n",
       "0           0  A2200005  의료법인강릉동인병원  37.774326  128.907142  의료법인강릉동인병원   \n",
       "1           1  A2200011    강원도강릉의료원  37.749310  128.888796         NaN   \n",
       "2           2  A2200008      강릉아산병원  37.818427  128.857714      강릉아산병원   \n",
       "3           3  A2200038  근로복지공단동해병원  37.532323  129.105856         NaN   \n",
       "4           4  A2200003  의료법인동해동인병원  37.530007  129.107404         NaN   \n",
       "\n",
       "   score(mean=100, sd=20)  \n",
       "0              116.390005  \n",
       "1                     NaN  \n",
       "2              170.014357  \n",
       "3                     NaN  \n",
       "4                     NaN  "
      ]
     },
     "execution_count": 31,
     "metadata": {},
     "output_type": "execute_result"
    }
   ],
   "source": [
    "h_df.head()"
   ]
  },
  {
   "cell_type": "markdown",
   "metadata": {},
   "source": [
    "#### drop unnamed column"
   ]
  },
  {
   "cell_type": "code",
   "execution_count": 32,
   "metadata": {},
   "outputs": [],
   "source": [
    "h_df = h_df.loc[:, ~h_df.columns.str.contains('^Unnamed')]"
   ]
  },
  {
   "cell_type": "code",
   "execution_count": 33,
   "metadata": {
    "scrolled": true
   },
   "outputs": [
    {
     "data": {
      "text/html": [
       "<div>\n",
       "<style scoped>\n",
       "    .dataframe tbody tr th:only-of-type {\n",
       "        vertical-align: middle;\n",
       "    }\n",
       "\n",
       "    .dataframe tbody tr th {\n",
       "        vertical-align: top;\n",
       "    }\n",
       "\n",
       "    .dataframe thead th {\n",
       "        text-align: right;\n",
       "    }\n",
       "</style>\n",
       "<table border=\"1\" class=\"dataframe\">\n",
       "  <thead>\n",
       "    <tr style=\"text-align: right;\">\n",
       "      <th></th>\n",
       "      <th>hpid</th>\n",
       "      <th>hname</th>\n",
       "      <th>x_coord</th>\n",
       "      <th>y_coord</th>\n",
       "      <th>dutyName.x</th>\n",
       "      <th>score(mean=100, sd=20)</th>\n",
       "    </tr>\n",
       "  </thead>\n",
       "  <tbody>\n",
       "    <tr>\n",
       "      <td>0</td>\n",
       "      <td>A2200005</td>\n",
       "      <td>의료법인강릉동인병원</td>\n",
       "      <td>37.774326</td>\n",
       "      <td>128.907142</td>\n",
       "      <td>의료법인강릉동인병원</td>\n",
       "      <td>116.390005</td>\n",
       "    </tr>\n",
       "    <tr>\n",
       "      <td>1</td>\n",
       "      <td>A2200011</td>\n",
       "      <td>강원도강릉의료원</td>\n",
       "      <td>37.749310</td>\n",
       "      <td>128.888796</td>\n",
       "      <td>NaN</td>\n",
       "      <td>NaN</td>\n",
       "    </tr>\n",
       "    <tr>\n",
       "      <td>2</td>\n",
       "      <td>A2200008</td>\n",
       "      <td>강릉아산병원</td>\n",
       "      <td>37.818427</td>\n",
       "      <td>128.857714</td>\n",
       "      <td>강릉아산병원</td>\n",
       "      <td>170.014357</td>\n",
       "    </tr>\n",
       "    <tr>\n",
       "      <td>3</td>\n",
       "      <td>A2200038</td>\n",
       "      <td>근로복지공단동해병원</td>\n",
       "      <td>37.532323</td>\n",
       "      <td>129.105856</td>\n",
       "      <td>NaN</td>\n",
       "      <td>NaN</td>\n",
       "    </tr>\n",
       "    <tr>\n",
       "      <td>4</td>\n",
       "      <td>A2200003</td>\n",
       "      <td>의료법인동해동인병원</td>\n",
       "      <td>37.530007</td>\n",
       "      <td>129.107404</td>\n",
       "      <td>NaN</td>\n",
       "      <td>NaN</td>\n",
       "    </tr>\n",
       "  </tbody>\n",
       "</table>\n",
       "</div>"
      ],
      "text/plain": [
       "       hpid       hname    x_coord     y_coord  dutyName.x  \\\n",
       "0  A2200005  의료법인강릉동인병원  37.774326  128.907142  의료법인강릉동인병원   \n",
       "1  A2200011    강원도강릉의료원  37.749310  128.888796         NaN   \n",
       "2  A2200008      강릉아산병원  37.818427  128.857714      강릉아산병원   \n",
       "3  A2200038  근로복지공단동해병원  37.532323  129.105856         NaN   \n",
       "4  A2200003  의료법인동해동인병원  37.530007  129.107404         NaN   \n",
       "\n",
       "   score(mean=100, sd=20)  \n",
       "0              116.390005  \n",
       "1                     NaN  \n",
       "2              170.014357  \n",
       "3                     NaN  \n",
       "4                     NaN  "
      ]
     },
     "execution_count": 33,
     "metadata": {},
     "output_type": "execute_result"
    }
   ],
   "source": [
    "h_df.head()"
   ]
  },
  {
   "cell_type": "markdown",
   "metadata": {},
   "source": [
    "#### drop duplicate column"
   ]
  },
  {
   "cell_type": "code",
   "execution_count": 41,
   "metadata": {},
   "outputs": [],
   "source": [
    "h_df = h_df.drop(columns = ['dutyName.x'] , axis=1)"
   ]
  },
  {
   "cell_type": "code",
   "execution_count": 44,
   "metadata": {},
   "outputs": [
    {
     "data": {
      "text/html": [
       "<div>\n",
       "<style scoped>\n",
       "    .dataframe tbody tr th:only-of-type {\n",
       "        vertical-align: middle;\n",
       "    }\n",
       "\n",
       "    .dataframe tbody tr th {\n",
       "        vertical-align: top;\n",
       "    }\n",
       "\n",
       "    .dataframe thead th {\n",
       "        text-align: right;\n",
       "    }\n",
       "</style>\n",
       "<table border=\"1\" class=\"dataframe\">\n",
       "  <thead>\n",
       "    <tr style=\"text-align: right;\">\n",
       "      <th></th>\n",
       "      <th>hpid</th>\n",
       "      <th>hname</th>\n",
       "      <th>x_coord</th>\n",
       "      <th>y_coord</th>\n",
       "      <th>score(mean=100, sd=20)</th>\n",
       "    </tr>\n",
       "  </thead>\n",
       "  <tbody>\n",
       "    <tr>\n",
       "      <td>0</td>\n",
       "      <td>A2200005</td>\n",
       "      <td>의료법인강릉동인병원</td>\n",
       "      <td>37.774326</td>\n",
       "      <td>128.907142</td>\n",
       "      <td>116.390005</td>\n",
       "    </tr>\n",
       "    <tr>\n",
       "      <td>1</td>\n",
       "      <td>A2200011</td>\n",
       "      <td>강원도강릉의료원</td>\n",
       "      <td>37.749310</td>\n",
       "      <td>128.888796</td>\n",
       "      <td>NaN</td>\n",
       "    </tr>\n",
       "    <tr>\n",
       "      <td>2</td>\n",
       "      <td>A2200008</td>\n",
       "      <td>강릉아산병원</td>\n",
       "      <td>37.818427</td>\n",
       "      <td>128.857714</td>\n",
       "      <td>170.014357</td>\n",
       "    </tr>\n",
       "    <tr>\n",
       "      <td>3</td>\n",
       "      <td>A2200038</td>\n",
       "      <td>근로복지공단동해병원</td>\n",
       "      <td>37.532323</td>\n",
       "      <td>129.105856</td>\n",
       "      <td>NaN</td>\n",
       "    </tr>\n",
       "    <tr>\n",
       "      <td>4</td>\n",
       "      <td>A2200003</td>\n",
       "      <td>의료법인동해동인병원</td>\n",
       "      <td>37.530007</td>\n",
       "      <td>129.107404</td>\n",
       "      <td>NaN</td>\n",
       "    </tr>\n",
       "  </tbody>\n",
       "</table>\n",
       "</div>"
      ],
      "text/plain": [
       "       hpid       hname    x_coord     y_coord  score(mean=100, sd=20)\n",
       "0  A2200005  의료법인강릉동인병원  37.774326  128.907142              116.390005\n",
       "1  A2200011    강원도강릉의료원  37.749310  128.888796                     NaN\n",
       "2  A2200008      강릉아산병원  37.818427  128.857714              170.014357\n",
       "3  A2200038  근로복지공단동해병원  37.532323  129.105856                     NaN\n",
       "4  A2200003  의료법인동해동인병원  37.530007  129.107404                     NaN"
      ]
     },
     "execution_count": 44,
     "metadata": {},
     "output_type": "execute_result"
    }
   ],
   "source": [
    "h_df.head()"
   ]
  },
  {
   "cell_type": "markdown",
   "metadata": {},
   "source": [
    "#### Null handling : fillna('mean')"
   ]
  },
  {
   "cell_type": "code",
   "execution_count": 45,
   "metadata": {},
   "outputs": [],
   "source": [
    "filled = h_df.fillna(h_df.mean())"
   ]
  },
  {
   "cell_type": "code",
   "execution_count": 46,
   "metadata": {},
   "outputs": [
    {
     "data": {
      "text/html": [
       "<div>\n",
       "<style scoped>\n",
       "    .dataframe tbody tr th:only-of-type {\n",
       "        vertical-align: middle;\n",
       "    }\n",
       "\n",
       "    .dataframe tbody tr th {\n",
       "        vertical-align: top;\n",
       "    }\n",
       "\n",
       "    .dataframe thead th {\n",
       "        text-align: right;\n",
       "    }\n",
       "</style>\n",
       "<table border=\"1\" class=\"dataframe\">\n",
       "  <thead>\n",
       "    <tr style=\"text-align: right;\">\n",
       "      <th></th>\n",
       "      <th>hpid</th>\n",
       "      <th>hname</th>\n",
       "      <th>x_coord</th>\n",
       "      <th>y_coord</th>\n",
       "      <th>score(mean=100, sd=20)</th>\n",
       "    </tr>\n",
       "  </thead>\n",
       "  <tbody>\n",
       "    <tr>\n",
       "      <td>0</td>\n",
       "      <td>A2200005</td>\n",
       "      <td>의료법인강릉동인병원</td>\n",
       "      <td>37.774326</td>\n",
       "      <td>128.907142</td>\n",
       "      <td>116.390005</td>\n",
       "    </tr>\n",
       "    <tr>\n",
       "      <td>1</td>\n",
       "      <td>A2200011</td>\n",
       "      <td>강원도강릉의료원</td>\n",
       "      <td>37.749310</td>\n",
       "      <td>128.888796</td>\n",
       "      <td>100.000000</td>\n",
       "    </tr>\n",
       "    <tr>\n",
       "      <td>2</td>\n",
       "      <td>A2200008</td>\n",
       "      <td>강릉아산병원</td>\n",
       "      <td>37.818427</td>\n",
       "      <td>128.857714</td>\n",
       "      <td>170.014357</td>\n",
       "    </tr>\n",
       "    <tr>\n",
       "      <td>3</td>\n",
       "      <td>A2200038</td>\n",
       "      <td>근로복지공단동해병원</td>\n",
       "      <td>37.532323</td>\n",
       "      <td>129.105856</td>\n",
       "      <td>100.000000</td>\n",
       "    </tr>\n",
       "    <tr>\n",
       "      <td>4</td>\n",
       "      <td>A2200003</td>\n",
       "      <td>의료법인동해동인병원</td>\n",
       "      <td>37.530007</td>\n",
       "      <td>129.107404</td>\n",
       "      <td>100.000000</td>\n",
       "    </tr>\n",
       "  </tbody>\n",
       "</table>\n",
       "</div>"
      ],
      "text/plain": [
       "       hpid       hname    x_coord     y_coord  score(mean=100, sd=20)\n",
       "0  A2200005  의료법인강릉동인병원  37.774326  128.907142              116.390005\n",
       "1  A2200011    강원도강릉의료원  37.749310  128.888796              100.000000\n",
       "2  A2200008      강릉아산병원  37.818427  128.857714              170.014357\n",
       "3  A2200038  근로복지공단동해병원  37.532323  129.105856              100.000000\n",
       "4  A2200003  의료법인동해동인병원  37.530007  129.107404              100.000000"
      ]
     },
     "execution_count": 46,
     "metadata": {},
     "output_type": "execute_result"
    }
   ],
   "source": [
    "filled.head()"
   ]
  },
  {
   "cell_type": "code",
   "execution_count": 82,
   "metadata": {},
   "outputs": [],
   "source": [
    "filled['xy'] = list(zip(filled.x_coord, filled.y_coord))"
   ]
  },
  {
   "cell_type": "code",
   "execution_count": 84,
   "metadata": {},
   "outputs": [
    {
     "data": {
      "text/html": [
       "<div>\n",
       "<style scoped>\n",
       "    .dataframe tbody tr th:only-of-type {\n",
       "        vertical-align: middle;\n",
       "    }\n",
       "\n",
       "    .dataframe tbody tr th {\n",
       "        vertical-align: top;\n",
       "    }\n",
       "\n",
       "    .dataframe thead th {\n",
       "        text-align: right;\n",
       "    }\n",
       "</style>\n",
       "<table border=\"1\" class=\"dataframe\">\n",
       "  <thead>\n",
       "    <tr style=\"text-align: right;\">\n",
       "      <th></th>\n",
       "      <th>hpid</th>\n",
       "      <th>hname</th>\n",
       "      <th>x_coord</th>\n",
       "      <th>y_coord</th>\n",
       "      <th>score(mean=100, sd=20)</th>\n",
       "      <th>xy</th>\n",
       "    </tr>\n",
       "  </thead>\n",
       "  <tbody>\n",
       "    <tr>\n",
       "      <td>0</td>\n",
       "      <td>A2200005</td>\n",
       "      <td>의료법인강릉동인병원</td>\n",
       "      <td>37.774326</td>\n",
       "      <td>128.907142</td>\n",
       "      <td>116.390005</td>\n",
       "      <td>(37.77432579, 128.9071418)</td>\n",
       "    </tr>\n",
       "    <tr>\n",
       "      <td>1</td>\n",
       "      <td>A2200011</td>\n",
       "      <td>강원도강릉의료원</td>\n",
       "      <td>37.749310</td>\n",
       "      <td>128.888796</td>\n",
       "      <td>100.000000</td>\n",
       "      <td>(37.74931042, 128.8887963)</td>\n",
       "    </tr>\n",
       "    <tr>\n",
       "      <td>2</td>\n",
       "      <td>A2200008</td>\n",
       "      <td>강릉아산병원</td>\n",
       "      <td>37.818427</td>\n",
       "      <td>128.857714</td>\n",
       "      <td>170.014357</td>\n",
       "      <td>(37.81842669, 128.85771409999998)</td>\n",
       "    </tr>\n",
       "    <tr>\n",
       "      <td>3</td>\n",
       "      <td>A2200038</td>\n",
       "      <td>근로복지공단동해병원</td>\n",
       "      <td>37.532323</td>\n",
       "      <td>129.105856</td>\n",
       "      <td>100.000000</td>\n",
       "      <td>(37.53232312, 129.10585600000002)</td>\n",
       "    </tr>\n",
       "    <tr>\n",
       "      <td>4</td>\n",
       "      <td>A2200003</td>\n",
       "      <td>의료법인동해동인병원</td>\n",
       "      <td>37.530007</td>\n",
       "      <td>129.107404</td>\n",
       "      <td>100.000000</td>\n",
       "      <td>(37.53000681, 129.1074043)</td>\n",
       "    </tr>\n",
       "  </tbody>\n",
       "</table>\n",
       "</div>"
      ],
      "text/plain": [
       "       hpid       hname    x_coord     y_coord  score(mean=100, sd=20)  \\\n",
       "0  A2200005  의료법인강릉동인병원  37.774326  128.907142              116.390005   \n",
       "1  A2200011    강원도강릉의료원  37.749310  128.888796              100.000000   \n",
       "2  A2200008      강릉아산병원  37.818427  128.857714              170.014357   \n",
       "3  A2200038  근로복지공단동해병원  37.532323  129.105856              100.000000   \n",
       "4  A2200003  의료법인동해동인병원  37.530007  129.107404              100.000000   \n",
       "\n",
       "                                  xy  \n",
       "0         (37.77432579, 128.9071418)  \n",
       "1         (37.74931042, 128.8887963)  \n",
       "2  (37.81842669, 128.85771409999998)  \n",
       "3  (37.53232312, 129.10585600000002)  \n",
       "4         (37.53000681, 129.1074043)  "
      ]
     },
     "execution_count": 84,
     "metadata": {},
     "output_type": "execute_result"
    }
   ],
   "source": [
    "filled.head()"
   ]
  },
  {
   "cell_type": "markdown",
   "metadata": {},
   "source": [
    "## Location Scoring"
   ]
  },
  {
   "cell_type": "code",
   "execution_count": 47,
   "metadata": {},
   "outputs": [],
   "source": [
    "st = pd.read_csv(\"C:\\\\Users\\park\\\\Desktop\\\\strong_series.csv\", encoding='euc-kr')"
   ]
  },
  {
   "cell_type": "code",
   "execution_count": 55,
   "metadata": {},
   "outputs": [],
   "source": [
    "st = st.drop(columns = ['0'] , axis = 1 )"
   ]
  },
  {
   "cell_type": "code",
   "execution_count": 63,
   "metadata": {},
   "outputs": [],
   "source": [
    "st.rename(columns = {\"(35.25133521, 129.2160746)\": \"xy\" }, inplace = True)"
   ]
  },
  {
   "cell_type": "code",
   "execution_count": 64,
   "metadata": {},
   "outputs": [
    {
     "data": {
      "text/html": [
       "<div>\n",
       "<style scoped>\n",
       "    .dataframe tbody tr th:only-of-type {\n",
       "        vertical-align: middle;\n",
       "    }\n",
       "\n",
       "    .dataframe tbody tr th {\n",
       "        vertical-align: top;\n",
       "    }\n",
       "\n",
       "    .dataframe thead th {\n",
       "        text-align: right;\n",
       "    }\n",
       "</style>\n",
       "<table border=\"1\" class=\"dataframe\">\n",
       "  <thead>\n",
       "    <tr style=\"text-align: right;\">\n",
       "      <th></th>\n",
       "      <th>xy</th>\n",
       "    </tr>\n",
       "  </thead>\n",
       "  <tbody>\n",
       "    <tr>\n",
       "      <td>0</td>\n",
       "      <td>(35.25792753, 129.2127994)</td>\n",
       "    </tr>\n",
       "    <tr>\n",
       "      <td>1</td>\n",
       "      <td>(35.24466329, 129.2264373)</td>\n",
       "    </tr>\n",
       "    <tr>\n",
       "      <td>2</td>\n",
       "      <td>(35.24784903, 129.2370603)</td>\n",
       "    </tr>\n",
       "    <tr>\n",
       "      <td>3</td>\n",
       "      <td>(35.25006167, 129.1997695)</td>\n",
       "    </tr>\n",
       "    <tr>\n",
       "      <td>4</td>\n",
       "      <td>(35.23956938, 129.2003006)</td>\n",
       "    </tr>\n",
       "  </tbody>\n",
       "</table>\n",
       "</div>"
      ],
      "text/plain": [
       "                           xy\n",
       "0  (35.25792753, 129.2127994)\n",
       "1  (35.24466329, 129.2264373)\n",
       "2  (35.24784903, 129.2370603)\n",
       "3  (35.25006167, 129.1997695)\n",
       "4  (35.23956938, 129.2003006)"
      ]
     },
     "execution_count": 64,
     "metadata": {},
     "output_type": "execute_result"
    }
   ],
   "source": [
    "st.head()"
   ]
  },
  {
   "cell_type": "code",
   "execution_count": 122,
   "metadata": {},
   "outputs": [
    {
     "data": {
      "text/plain": [
       "'(35.25792753, 129.2127994)'"
      ]
     },
     "execution_count": 122,
     "metadata": {},
     "output_type": "execute_result"
    }
   ],
   "source": [
    "st['xy'][0]"
   ]
  },
  {
   "cell_type": "code",
   "execution_count": 123,
   "metadata": {},
   "outputs": [
    {
     "data": {
      "text/plain": [
       "(37.77432579, 128.9071418)"
      ]
     },
     "execution_count": 123,
     "metadata": {},
     "output_type": "execute_result"
    }
   ],
   "source": [
    "filled['xy'][0]"
   ]
  },
  {
   "cell_type": "code",
   "execution_count": 108,
   "metadata": {},
   "outputs": [
    {
     "ename": "ValueError",
     "evalue": "too many values to unpack (expected 2)",
     "output_type": "error",
     "traceback": [
      "\u001b[1;31m---------------------------------------------------------------------------\u001b[0m",
      "\u001b[1;31mValueError\u001b[0m                                Traceback (most recent call last)",
      "\u001b[1;32m<ipython-input-108-89a2308f2621>\u001b[0m in \u001b[0;36m<module>\u001b[1;34m\u001b[0m\n\u001b[1;32m----> 1\u001b[1;33m \u001b[0mhaversine\u001b[0m\u001b[1;33m(\u001b[0m\u001b[0mst\u001b[0m\u001b[1;33m[\u001b[0m\u001b[1;34m'xy'\u001b[0m\u001b[1;33m]\u001b[0m\u001b[1;33m[\u001b[0m\u001b[1;36m0\u001b[0m\u001b[1;33m]\u001b[0m \u001b[1;33m,\u001b[0m \u001b[0mfilled\u001b[0m\u001b[1;33m[\u001b[0m\u001b[1;34m'xy'\u001b[0m\u001b[1;33m]\u001b[0m\u001b[1;33m[\u001b[0m\u001b[1;36m1\u001b[0m\u001b[1;33m]\u001b[0m\u001b[1;33m)\u001b[0m\u001b[1;33m\u001b[0m\u001b[1;33m\u001b[0m\u001b[0m\n\u001b[0m",
      "\u001b[1;32m~\\Anaconda3\\lib\\site-packages\\haversine\\haversine.py\u001b[0m in \u001b[0;36mhaversine\u001b[1;34m(point1, point2, unit)\u001b[0m\n\u001b[0;32m     59\u001b[0m \u001b[1;33m\u001b[0m\u001b[0m\n\u001b[0;32m     60\u001b[0m     \u001b[1;31m# unpack latitude/longitude\u001b[0m\u001b[1;33m\u001b[0m\u001b[1;33m\u001b[0m\u001b[1;33m\u001b[0m\u001b[0m\n\u001b[1;32m---> 61\u001b[1;33m     \u001b[0mlat1\u001b[0m\u001b[1;33m,\u001b[0m \u001b[0mlng1\u001b[0m \u001b[1;33m=\u001b[0m \u001b[0mpoint1\u001b[0m\u001b[1;33m\u001b[0m\u001b[1;33m\u001b[0m\u001b[0m\n\u001b[0m\u001b[0;32m     62\u001b[0m     \u001b[0mlat2\u001b[0m\u001b[1;33m,\u001b[0m \u001b[0mlng2\u001b[0m \u001b[1;33m=\u001b[0m \u001b[0mpoint2\u001b[0m\u001b[1;33m\u001b[0m\u001b[1;33m\u001b[0m\u001b[0m\n\u001b[0;32m     63\u001b[0m \u001b[1;33m\u001b[0m\u001b[0m\n",
      "\u001b[1;31mValueError\u001b[0m: too many values to unpack (expected 2)"
     ]
    }
   ],
   "source": [
    "haversine(st['xy'][0] , filled['xy'][1])"
   ]
  },
  {
   "cell_type": "code",
   "execution_count": 91,
   "metadata": {},
   "outputs": [
    {
     "data": {
      "text/plain": [
       "0              (35.25792753, 129.2127994)\n",
       "1              (35.24466329, 129.2264373)\n",
       "2              (35.24784903, 129.2370603)\n",
       "3              (35.25006167, 129.1997695)\n",
       "4              (35.23956938, 129.2003006)\n",
       "                      ...                \n",
       "7864    (33.52612038, 126.61789270000001)\n",
       "7865    (33.48631499, 126.63961100000002)\n",
       "7866           (33.52950526, 126.6414315)\n",
       "7867    (33.22793712, 126.65277379999999)\n",
       "7868    (33.32800614, 126.59405559999999)\n",
       "Name: xy, Length: 7869, dtype: object"
      ]
     },
     "execution_count": 91,
     "metadata": {},
     "output_type": "execute_result"
    }
   ],
   "source": [
    "st['xy']"
   ]
  },
  {
   "cell_type": "code",
   "execution_count": 51,
   "metadata": {},
   "outputs": [],
   "source": [
    "from haversine import haversine"
   ]
  },
  {
   "cell_type": "code",
   "execution_count": 88,
   "metadata": {},
   "outputs": [],
   "source": [
    "from functools import partial\n",
    "\n",
    "def todict(x, y, z):\n",
    "    z.updata({ x : y})\n",
    "    \n",
    "def calculate_distance(loop, target, distance):\n",
    "    for loop_ in loop:\n",
    "        dis = haversine(target, loop_)\n",
    "        if dis < distance:\n",
    "            return loop_ , dis \n",
    "        else :\n",
    "            continue"
   ]
  },
  {
   "cell_type": "code",
   "execution_count": 93,
   "metadata": {},
   "outputs": [
    {
     "ename": "ValueError",
     "evalue": "too many values to unpack (expected 2)",
     "output_type": "error",
     "traceback": [
      "\u001b[1;31m---------------------------------------------------------------------------\u001b[0m",
      "\u001b[1;31mValueError\u001b[0m                                Traceback (most recent call last)",
      "\u001b[1;32m<ipython-input-93-924f5d83df5d>\u001b[0m in \u001b[0;36m<module>\u001b[1;34m\u001b[0m\n\u001b[1;32m----> 1\u001b[1;33m \u001b[0ma\u001b[0m \u001b[1;33m=\u001b[0m \u001b[0mdict\u001b[0m\u001b[1;33m(\u001b[0m\u001b[0mmap\u001b[0m\u001b[1;33m(\u001b[0m\u001b[1;32mlambda\u001b[0m \u001b[0mx\u001b[0m \u001b[1;33m:\u001b[0m \u001b[0mcalculate_distance\u001b[0m\u001b[1;33m(\u001b[0m\u001b[0mfilled\u001b[0m\u001b[1;33m[\u001b[0m\u001b[1;34m'xy'\u001b[0m\u001b[1;33m]\u001b[0m\u001b[1;33m,\u001b[0m \u001b[0mx\u001b[0m \u001b[1;33m,\u001b[0m \u001b[1;36m10\u001b[0m\u001b[1;33m)\u001b[0m \u001b[1;33m,\u001b[0m \u001b[0mst\u001b[0m\u001b[1;33m[\u001b[0m\u001b[1;34m'xy'\u001b[0m\u001b[1;33m]\u001b[0m\u001b[1;33m)\u001b[0m\u001b[1;33m)\u001b[0m\u001b[1;33m\u001b[0m\u001b[1;33m\u001b[0m\u001b[0m\n\u001b[0m",
      "\u001b[1;32m<ipython-input-93-924f5d83df5d>\u001b[0m in \u001b[0;36m<lambda>\u001b[1;34m(x)\u001b[0m\n\u001b[1;32m----> 1\u001b[1;33m \u001b[0ma\u001b[0m \u001b[1;33m=\u001b[0m \u001b[0mdict\u001b[0m\u001b[1;33m(\u001b[0m\u001b[0mmap\u001b[0m\u001b[1;33m(\u001b[0m\u001b[1;32mlambda\u001b[0m \u001b[0mx\u001b[0m \u001b[1;33m:\u001b[0m \u001b[0mcalculate_distance\u001b[0m\u001b[1;33m(\u001b[0m\u001b[0mfilled\u001b[0m\u001b[1;33m[\u001b[0m\u001b[1;34m'xy'\u001b[0m\u001b[1;33m]\u001b[0m\u001b[1;33m,\u001b[0m \u001b[0mx\u001b[0m \u001b[1;33m,\u001b[0m \u001b[1;36m10\u001b[0m\u001b[1;33m)\u001b[0m \u001b[1;33m,\u001b[0m \u001b[0mst\u001b[0m\u001b[1;33m[\u001b[0m\u001b[1;34m'xy'\u001b[0m\u001b[1;33m]\u001b[0m\u001b[1;33m)\u001b[0m\u001b[1;33m)\u001b[0m\u001b[1;33m\u001b[0m\u001b[1;33m\u001b[0m\u001b[0m\n\u001b[0m",
      "\u001b[1;32m<ipython-input-88-e91c4ee505db>\u001b[0m in \u001b[0;36mcalculate_distance\u001b[1;34m(loop, target, distance)\u001b[0m\n\u001b[0;32m      6\u001b[0m \u001b[1;32mdef\u001b[0m \u001b[0mcalculate_distance\u001b[0m\u001b[1;33m(\u001b[0m\u001b[0mloop\u001b[0m\u001b[1;33m,\u001b[0m \u001b[0mtarget\u001b[0m\u001b[1;33m,\u001b[0m \u001b[0mdistance\u001b[0m\u001b[1;33m)\u001b[0m\u001b[1;33m:\u001b[0m\u001b[1;33m\u001b[0m\u001b[1;33m\u001b[0m\u001b[0m\n\u001b[0;32m      7\u001b[0m     \u001b[1;32mfor\u001b[0m \u001b[0mloop_\u001b[0m \u001b[1;32min\u001b[0m \u001b[0mloop\u001b[0m\u001b[1;33m:\u001b[0m\u001b[1;33m\u001b[0m\u001b[1;33m\u001b[0m\u001b[0m\n\u001b[1;32m----> 8\u001b[1;33m         \u001b[0mdis\u001b[0m \u001b[1;33m=\u001b[0m \u001b[0mhaversine\u001b[0m\u001b[1;33m(\u001b[0m\u001b[0mtarget\u001b[0m\u001b[1;33m,\u001b[0m \u001b[0mloop_\u001b[0m\u001b[1;33m)\u001b[0m\u001b[1;33m\u001b[0m\u001b[1;33m\u001b[0m\u001b[0m\n\u001b[0m\u001b[0;32m      9\u001b[0m         \u001b[1;32mif\u001b[0m \u001b[0mdis\u001b[0m \u001b[1;33m<\u001b[0m \u001b[0mdistance\u001b[0m\u001b[1;33m:\u001b[0m\u001b[1;33m\u001b[0m\u001b[1;33m\u001b[0m\u001b[0m\n\u001b[0;32m     10\u001b[0m             \u001b[1;32mreturn\u001b[0m \u001b[0mloop_\u001b[0m \u001b[1;33m,\u001b[0m \u001b[0mdis\u001b[0m\u001b[1;33m\u001b[0m\u001b[1;33m\u001b[0m\u001b[0m\n",
      "\u001b[1;32m~\\Anaconda3\\lib\\site-packages\\haversine\\haversine.py\u001b[0m in \u001b[0;36mhaversine\u001b[1;34m(point1, point2, unit)\u001b[0m\n\u001b[0;32m     59\u001b[0m \u001b[1;33m\u001b[0m\u001b[0m\n\u001b[0;32m     60\u001b[0m     \u001b[1;31m# unpack latitude/longitude\u001b[0m\u001b[1;33m\u001b[0m\u001b[1;33m\u001b[0m\u001b[1;33m\u001b[0m\u001b[0m\n\u001b[1;32m---> 61\u001b[1;33m     \u001b[0mlat1\u001b[0m\u001b[1;33m,\u001b[0m \u001b[0mlng1\u001b[0m \u001b[1;33m=\u001b[0m \u001b[0mpoint1\u001b[0m\u001b[1;33m\u001b[0m\u001b[1;33m\u001b[0m\u001b[0m\n\u001b[0m\u001b[0;32m     62\u001b[0m     \u001b[0mlat2\u001b[0m\u001b[1;33m,\u001b[0m \u001b[0mlng2\u001b[0m \u001b[1;33m=\u001b[0m \u001b[0mpoint2\u001b[0m\u001b[1;33m\u001b[0m\u001b[1;33m\u001b[0m\u001b[0m\n\u001b[0;32m     63\u001b[0m \u001b[1;33m\u001b[0m\u001b[0m\n",
      "\u001b[1;31mValueError\u001b[0m: too many values to unpack (expected 2)"
     ]
    }
   ],
   "source": [
    "a = list(map(lambda x : calculate_distance(filled['xy'], x , 10) , st['xy']))"
   ]
  },
  {
   "cell_type": "code",
   "execution_count": 71,
   "metadata": {},
   "outputs": [],
   "source": [
    "def calculate_distance(loop, target, distance):\n",
    "    for loop_ in loop['xy']:\n",
    "        if haversine(target, loop_) < distance:\n",
    "            return target"
   ]
  },
  {
   "cell_type": "markdown",
   "metadata": {},
   "source": [
    "# issue : coord in csv file deteriorate  '(x,y )' to (x , y) "
   ]
  },
  {
   "cell_type": "markdown",
   "metadata": {},
   "source": [
    "#### import new data"
   ]
  },
  {
   "cell_type": "code",
   "execution_count": 128,
   "metadata": {},
   "outputs": [],
   "source": [
    "new_df = pd.read_csv(\"C:\\\\Users\\\\park\\\\Desktop\\\\DS_Yonsei\\\\target_xy.csv\",encoding='euc-kr')"
   ]
  },
  {
   "cell_type": "code",
   "execution_count": 129,
   "metadata": {},
   "outputs": [
    {
     "name": "stdout",
     "output_type": "stream",
     "text": [
      "<class 'pandas.core.frame.DataFrame'>\n",
      "RangeIndex: 19956 entries, 0 to 19955\n",
      "Data columns (total 5 columns):\n",
      "Unnamed: 0    19956 non-null int64\n",
      "x_coord       19956 non-null float64\n",
      "y_coord       19956 non-null float64\n",
      "x_w84         19956 non-null float64\n",
      "y_w84         19956 non-null float64\n",
      "dtypes: float64(4), int64(1)\n",
      "memory usage: 779.7 KB\n"
     ]
    }
   ],
   "source": [
    "new_df.info()"
   ]
  },
  {
   "cell_type": "code",
   "execution_count": 130,
   "metadata": {},
   "outputs": [],
   "source": [
    "new_df[\"xy\"] = list(zip(new_df.x_w84, new_df.y_w84))"
   ]
  },
  {
   "cell_type": "code",
   "execution_count": 131,
   "metadata": {},
   "outputs": [
    {
     "data": {
      "text/html": [
       "<div>\n",
       "<style scoped>\n",
       "    .dataframe tbody tr th:only-of-type {\n",
       "        vertical-align: middle;\n",
       "    }\n",
       "\n",
       "    .dataframe tbody tr th {\n",
       "        vertical-align: top;\n",
       "    }\n",
       "\n",
       "    .dataframe thead th {\n",
       "        text-align: right;\n",
       "    }\n",
       "</style>\n",
       "<table border=\"1\" class=\"dataframe\">\n",
       "  <thead>\n",
       "    <tr style=\"text-align: right;\">\n",
       "      <th></th>\n",
       "      <th>Unnamed: 0</th>\n",
       "      <th>x_coord</th>\n",
       "      <th>y_coord</th>\n",
       "      <th>x_w84</th>\n",
       "      <th>y_w84</th>\n",
       "      <th>xy</th>\n",
       "    </tr>\n",
       "  </thead>\n",
       "  <tbody>\n",
       "    <tr>\n",
       "      <td>0</td>\n",
       "      <td>0</td>\n",
       "      <td>1156316.451</td>\n",
       "      <td>1696145.364</td>\n",
       "      <td>35.251335</td>\n",
       "      <td>129.216075</td>\n",
       "      <td>(35.25133521, 129.2160746)</td>\n",
       "    </tr>\n",
       "    <tr>\n",
       "      <td>1</td>\n",
       "      <td>1</td>\n",
       "      <td>1156005.820</td>\n",
       "      <td>1696871.420</td>\n",
       "      <td>35.257928</td>\n",
       "      <td>129.212799</td>\n",
       "      <td>(35.25792753, 129.2127994)</td>\n",
       "    </tr>\n",
       "    <tr>\n",
       "      <td>2</td>\n",
       "      <td>2</td>\n",
       "      <td>1157272.193</td>\n",
       "      <td>1695421.691</td>\n",
       "      <td>35.244663</td>\n",
       "      <td>129.226437</td>\n",
       "      <td>(35.24466329, 129.2264373)</td>\n",
       "    </tr>\n",
       "    <tr>\n",
       "      <td>3</td>\n",
       "      <td>3</td>\n",
       "      <td>1158232.627</td>\n",
       "      <td>1695791.926</td>\n",
       "      <td>35.247849</td>\n",
       "      <td>129.237060</td>\n",
       "      <td>(35.24784903, 129.2370603)</td>\n",
       "    </tr>\n",
       "    <tr>\n",
       "      <td>4</td>\n",
       "      <td>4</td>\n",
       "      <td>1154835.339</td>\n",
       "      <td>1695978.554</td>\n",
       "      <td>35.250062</td>\n",
       "      <td>129.199770</td>\n",
       "      <td>(35.25006167, 129.1997695)</td>\n",
       "    </tr>\n",
       "  </tbody>\n",
       "</table>\n",
       "</div>"
      ],
      "text/plain": [
       "   Unnamed: 0      x_coord      y_coord      x_w84       y_w84  \\\n",
       "0           0  1156316.451  1696145.364  35.251335  129.216075   \n",
       "1           1  1156005.820  1696871.420  35.257928  129.212799   \n",
       "2           2  1157272.193  1695421.691  35.244663  129.226437   \n",
       "3           3  1158232.627  1695791.926  35.247849  129.237060   \n",
       "4           4  1154835.339  1695978.554  35.250062  129.199770   \n",
       "\n",
       "                           xy  \n",
       "0  (35.25133521, 129.2160746)  \n",
       "1  (35.25792753, 129.2127994)  \n",
       "2  (35.24466329, 129.2264373)  \n",
       "3  (35.24784903, 129.2370603)  \n",
       "4  (35.25006167, 129.1997695)  "
      ]
     },
     "execution_count": 131,
     "metadata": {},
     "output_type": "execute_result"
    }
   ],
   "source": [
    "new_df.head()"
   ]
  },
  {
   "cell_type": "code",
   "execution_count": 132,
   "metadata": {},
   "outputs": [],
   "source": [
    "new_df = new_df.loc[:, ~new_df.columns.str.contains('^Unnamed')]"
   ]
  },
  {
   "cell_type": "code",
   "execution_count": 133,
   "metadata": {},
   "outputs": [
    {
     "data": {
      "text/html": [
       "<div>\n",
       "<style scoped>\n",
       "    .dataframe tbody tr th:only-of-type {\n",
       "        vertical-align: middle;\n",
       "    }\n",
       "\n",
       "    .dataframe tbody tr th {\n",
       "        vertical-align: top;\n",
       "    }\n",
       "\n",
       "    .dataframe thead th {\n",
       "        text-align: right;\n",
       "    }\n",
       "</style>\n",
       "<table border=\"1\" class=\"dataframe\">\n",
       "  <thead>\n",
       "    <tr style=\"text-align: right;\">\n",
       "      <th></th>\n",
       "      <th>x_coord</th>\n",
       "      <th>y_coord</th>\n",
       "      <th>x_w84</th>\n",
       "      <th>y_w84</th>\n",
       "      <th>xy</th>\n",
       "    </tr>\n",
       "  </thead>\n",
       "  <tbody>\n",
       "    <tr>\n",
       "      <td>0</td>\n",
       "      <td>1156316.451</td>\n",
       "      <td>1696145.364</td>\n",
       "      <td>35.251335</td>\n",
       "      <td>129.216075</td>\n",
       "      <td>(35.25133521, 129.2160746)</td>\n",
       "    </tr>\n",
       "    <tr>\n",
       "      <td>1</td>\n",
       "      <td>1156005.820</td>\n",
       "      <td>1696871.420</td>\n",
       "      <td>35.257928</td>\n",
       "      <td>129.212799</td>\n",
       "      <td>(35.25792753, 129.2127994)</td>\n",
       "    </tr>\n",
       "    <tr>\n",
       "      <td>2</td>\n",
       "      <td>1157272.193</td>\n",
       "      <td>1695421.691</td>\n",
       "      <td>35.244663</td>\n",
       "      <td>129.226437</td>\n",
       "      <td>(35.24466329, 129.2264373)</td>\n",
       "    </tr>\n",
       "    <tr>\n",
       "      <td>3</td>\n",
       "      <td>1158232.627</td>\n",
       "      <td>1695791.926</td>\n",
       "      <td>35.247849</td>\n",
       "      <td>129.237060</td>\n",
       "      <td>(35.24784903, 129.2370603)</td>\n",
       "    </tr>\n",
       "    <tr>\n",
       "      <td>4</td>\n",
       "      <td>1154835.339</td>\n",
       "      <td>1695978.554</td>\n",
       "      <td>35.250062</td>\n",
       "      <td>129.199770</td>\n",
       "      <td>(35.25006167, 129.1997695)</td>\n",
       "    </tr>\n",
       "  </tbody>\n",
       "</table>\n",
       "</div>"
      ],
      "text/plain": [
       "       x_coord      y_coord      x_w84       y_w84                          xy\n",
       "0  1156316.451  1696145.364  35.251335  129.216075  (35.25133521, 129.2160746)\n",
       "1  1156005.820  1696871.420  35.257928  129.212799  (35.25792753, 129.2127994)\n",
       "2  1157272.193  1695421.691  35.244663  129.226437  (35.24466329, 129.2264373)\n",
       "3  1158232.627  1695791.926  35.247849  129.237060  (35.24784903, 129.2370603)\n",
       "4  1154835.339  1695978.554  35.250062  129.199770  (35.25006167, 129.1997695)"
      ]
     },
     "execution_count": 133,
     "metadata": {},
     "output_type": "execute_result"
    }
   ],
   "source": [
    "new_df.head()"
   ]
  }
 ],
 "metadata": {
  "kernelspec": {
   "display_name": "Python 3",
   "language": "python",
   "name": "python3"
  },
  "language_info": {
   "codemirror_mode": {
    "name": "ipython",
    "version": 3
   },
   "file_extension": ".py",
   "mimetype": "text/x-python",
   "name": "python",
   "nbconvert_exporter": "python",
   "pygments_lexer": "ipython3",
   "version": "3.7.4"
  }
 },
 "nbformat": 4,
 "nbformat_minor": 2
}
